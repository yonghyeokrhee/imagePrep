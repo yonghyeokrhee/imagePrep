{
 "cells": [
  {
   "cell_type": "code",
   "execution_count": 3,
   "metadata": {},
   "outputs": [],
   "source": [
    "from PIL import Image"
   ]
  },
  {
   "cell_type": "code",
   "execution_count": 54,
   "metadata": {},
   "outputs": [],
   "source": [
    "import boto3"
   ]
  },
  {
   "cell_type": "code",
   "execution_count": 22,
   "metadata": {},
   "outputs": [],
   "source": [
    "im = Image.open('test.jpg')"
   ]
  },
  {
   "cell_type": "code",
   "execution_count": 29,
   "metadata": {},
   "outputs": [
    {
     "data": {
      "text/plain": [
       "(2469, 13200)"
      ]
     },
     "execution_count": 29,
     "metadata": {},
     "output_type": "execute_result"
    }
   ],
   "source": [
    "im.size"
   ]
  },
  {
   "cell_type": "code",
   "execution_count": 68,
   "metadata": {},
   "outputs": [],
   "source": [
    "import os\n",
    "import io\n",
    "\n",
    "def crop(infile,height,width):\n",
    "    im = Image.open(infile)\n",
    "    imgwidth, imgheight = im.size\n",
    "    for i in range(imgheight//int(height/2)):\n",
    "        box = (0,i*(height/2), width, i*(height/2)+ height)\n",
    "        yield im.crop(box)\n",
    "\n",
    "if __name__=='__main__':\n",
    "    \n",
    "    \n",
    "    s3 = boto3.client('s3')\n",
    "    \n",
    "    infile= '3_BSL (3)_mark.jpg'\n",
    "    height= 132\n",
    "    width= 2469\n",
    "    start_num= 0\n",
    "    for k,piece in enumerate(crop(infile,height,width),start_num):\n",
    "        img=Image.new('L', (width,height), 255)\n",
    "        img.paste(piece)\n",
    "        in_mem_file = io.BytesIO()\n",
    "        path=os.path.join(\"{}-{}.png\".format(infile.split('.')[0], k))\n",
    "        #img.save(path)\n",
    "        img.save(in_mem_file, format='png')\n",
    "        in_mem_file.seek(0)\n",
    "        \n",
    "        s3.upload_fileobj(\n",
    "        in_mem_file,\n",
    "        'hankook-tire',\n",
    "        '{}/{}'.format(infile.split('.')[0],path))"
   ]
  }
 ],
 "metadata": {
  "kernelspec": {
   "display_name": "conda_python3",
   "language": "python",
   "name": "conda_python3"
  },
  "language_info": {
   "codemirror_mode": {
    "name": "ipython",
    "version": 3
   },
   "file_extension": ".py",
   "mimetype": "text/x-python",
   "name": "python",
   "nbconvert_exporter": "python",
   "pygments_lexer": "ipython3",
   "version": "3.6.10"
  },
  "toc-showcode": true
 },
 "nbformat": 4,
 "nbformat_minor": 4
}
