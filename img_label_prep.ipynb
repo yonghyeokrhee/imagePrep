{
 "cells": [
  {
   "cell_type": "code",
   "execution_count": 2,
   "metadata": {},
   "outputs": [],
   "source": [
    "import os"
   ]
  },
  {
   "cell_type": "code",
   "execution_count": 46,
   "metadata": {},
   "outputs": [],
   "source": [
    "import ast"
   ]
  },
  {
   "cell_type": "code",
   "execution_count": 25,
   "metadata": {},
   "outputs": [],
   "source": [
    "import numpy as np\n",
    "import pandas as pd"
   ]
  },
  {
   "cell_type": "code",
   "execution_count": 60,
   "metadata": {},
   "outputs": [],
   "source": [
    "filelst = os.listdir('./Downloads/siteTwo')"
   ]
  },
  {
   "cell_type": "code",
   "execution_count": 61,
   "metadata": {},
   "outputs": [],
   "source": [
    "result = pd.DataFrame(filelst,columns=['image'])"
   ]
  },
  {
   "cell_type": "code",
   "execution_count": 64,
   "metadata": {},
   "outputs": [],
   "source": [
    "#result.to_csv('hyundai_siteTwo.csv',index=False)"
   ]
  },
  {
   "cell_type": "raw",
   "metadata": {},
   "source": [
    "text_file = open(\"siteOne_result.txt\", \"r\")\n",
    "lines = text_file.readlines()\n",
    "text_file.close()"
   ]
  },
  {
   "cell_type": "code",
   "execution_count": 73,
   "metadata": {},
   "outputs": [],
   "source": [
    "txt = pd.read_csv('siteTwo_result.txt',header=None)"
   ]
  },
  {
   "cell_type": "code",
   "execution_count": 74,
   "metadata": {},
   "outputs": [
    {
     "data": {
      "text/html": [
       "<div>\n",
       "<style scoped>\n",
       "    .dataframe tbody tr th:only-of-type {\n",
       "        vertical-align: middle;\n",
       "    }\n",
       "\n",
       "    .dataframe tbody tr th {\n",
       "        vertical-align: top;\n",
       "    }\n",
       "\n",
       "    .dataframe thead th {\n",
       "        text-align: right;\n",
       "    }\n",
       "</style>\n",
       "<table border=\"1\" class=\"dataframe\">\n",
       "  <thead>\n",
       "    <tr style=\"text-align: right;\">\n",
       "      <th></th>\n",
       "      <th>0</th>\n",
       "    </tr>\n",
       "  </thead>\n",
       "  <tbody>\n",
       "    <tr>\n",
       "      <th>0</th>\n",
       "      <td>[[5.0, 0.9801816344261169, 0.5723161834240573,...</td>\n",
       "    </tr>\n",
       "    <tr>\n",
       "      <th>1</th>\n",
       "      <td>[[5.0, 0.970565140247345, 0.48513507178697357,...</td>\n",
       "    </tr>\n",
       "    <tr>\n",
       "      <th>2</th>\n",
       "      <td>[[5.0, 0.8995633125305176, 0.35179408797419776...</td>\n",
       "    </tr>\n",
       "    <tr>\n",
       "      <th>3</th>\n",
       "      <td>[[5.0, 0.9723071455955505, 0.4525189156132324,...</td>\n",
       "    </tr>\n",
       "    <tr>\n",
       "      <th>4</th>\n",
       "      <td>[[5.0, 0.8384732604026794, 0.6015328711776957,...</td>\n",
       "    </tr>\n",
       "    <tr>\n",
       "      <th>...</th>\n",
       "      <td>...</td>\n",
       "    </tr>\n",
       "    <tr>\n",
       "      <th>75</th>\n",
       "      <td>[[2.0, 0.954913318157196, 0.5624528159985922, ...</td>\n",
       "    </tr>\n",
       "    <tr>\n",
       "      <th>76</th>\n",
       "      <td>[[5.0, 0.7259454727172852, 0.6496890078488998,...</td>\n",
       "    </tr>\n",
       "    <tr>\n",
       "      <th>77</th>\n",
       "      <td>[[5.0, 0.9889770150184631, 0.371066164361384, ...</td>\n",
       "    </tr>\n",
       "    <tr>\n",
       "      <th>78</th>\n",
       "      <td>[[5.0, 0.9650653004646301, 0.4916399443963358,...</td>\n",
       "    </tr>\n",
       "    <tr>\n",
       "      <th>79</th>\n",
       "      <td>[[2.0, 0.9907962083816528, 0.5214252129024448,...</td>\n",
       "    </tr>\n",
       "  </tbody>\n",
       "</table>\n",
       "<p>80 rows × 1 columns</p>\n",
       "</div>"
      ],
      "text/plain": [
       "                                                    0\n",
       "0   [[5.0, 0.9801816344261169, 0.5723161834240573,...\n",
       "1   [[5.0, 0.970565140247345, 0.48513507178697357,...\n",
       "2   [[5.0, 0.8995633125305176, 0.35179408797419776...\n",
       "3   [[5.0, 0.9723071455955505, 0.4525189156132324,...\n",
       "4   [[5.0, 0.8384732604026794, 0.6015328711776957,...\n",
       "..                                                ...\n",
       "75  [[2.0, 0.954913318157196, 0.5624528159985922, ...\n",
       "76  [[5.0, 0.7259454727172852, 0.6496890078488998,...\n",
       "77  [[5.0, 0.9889770150184631, 0.371066164361384, ...\n",
       "78  [[5.0, 0.9650653004646301, 0.4916399443963358,...\n",
       "79  [[2.0, 0.9907962083816528, 0.5214252129024448,...\n",
       "\n",
       "[80 rows x 1 columns]"
      ]
     },
     "execution_count": 74,
     "metadata": {},
     "output_type": "execute_result"
    }
   ],
   "source": [
    "txt"
   ]
  },
  {
   "cell_type": "code",
   "execution_count": 75,
   "metadata": {},
   "outputs": [],
   "source": [
    "result['label'] = np.asarray(txt)"
   ]
  },
  {
   "cell_type": "code",
   "execution_count": 76,
   "metadata": {},
   "outputs": [
    {
     "data": {
      "text/html": [
       "<div>\n",
       "<style scoped>\n",
       "    .dataframe tbody tr th:only-of-type {\n",
       "        vertical-align: middle;\n",
       "    }\n",
       "\n",
       "    .dataframe tbody tr th {\n",
       "        vertical-align: top;\n",
       "    }\n",
       "\n",
       "    .dataframe thead th {\n",
       "        text-align: right;\n",
       "    }\n",
       "</style>\n",
       "<table border=\"1\" class=\"dataframe\">\n",
       "  <thead>\n",
       "    <tr style=\"text-align: right;\">\n",
       "      <th></th>\n",
       "      <th>image</th>\n",
       "      <th>label</th>\n",
       "    </tr>\n",
       "  </thead>\n",
       "  <tbody>\n",
       "    <tr>\n",
       "      <th>0</th>\n",
       "      <td>20200715_131357.jpg</td>\n",
       "      <td>[[5.0, 0.9801816344261169, 0.5723161834240573,...</td>\n",
       "    </tr>\n",
       "    <tr>\n",
       "      <th>1</th>\n",
       "      <td>20200715_131425.jpg</td>\n",
       "      <td>[[5.0, 0.970565140247345, 0.48513507178697357,...</td>\n",
       "    </tr>\n",
       "    <tr>\n",
       "      <th>2</th>\n",
       "      <td>20200715_132104.jpg</td>\n",
       "      <td>[[5.0, 0.8995633125305176, 0.35179408797419776...</td>\n",
       "    </tr>\n",
       "    <tr>\n",
       "      <th>3</th>\n",
       "      <td>20200715_131419.jpg</td>\n",
       "      <td>[[5.0, 0.9723071455955505, 0.4525189156132324,...</td>\n",
       "    </tr>\n",
       "    <tr>\n",
       "      <th>4</th>\n",
       "      <td>20200715_131627.jpg</td>\n",
       "      <td>[[5.0, 0.8384732604026794, 0.6015328711776957,...</td>\n",
       "    </tr>\n",
       "    <tr>\n",
       "      <th>...</th>\n",
       "      <td>...</td>\n",
       "      <td>...</td>\n",
       "    </tr>\n",
       "    <tr>\n",
       "      <th>75</th>\n",
       "      <td>20200715_132040.jpg</td>\n",
       "      <td>[[2.0, 0.954913318157196, 0.5624528159985922, ...</td>\n",
       "    </tr>\n",
       "    <tr>\n",
       "      <th>76</th>\n",
       "      <td>20200715_131616.jpg</td>\n",
       "      <td>[[5.0, 0.7259454727172852, 0.6496890078488998,...</td>\n",
       "    </tr>\n",
       "    <tr>\n",
       "      <th>77</th>\n",
       "      <td>20200715_132109.jpg</td>\n",
       "      <td>[[5.0, 0.9889770150184631, 0.371066164361384, ...</td>\n",
       "    </tr>\n",
       "    <tr>\n",
       "      <th>78</th>\n",
       "      <td>20200715_131414.jpg</td>\n",
       "      <td>[[5.0, 0.9650653004646301, 0.4916399443963358,...</td>\n",
       "    </tr>\n",
       "    <tr>\n",
       "      <th>79</th>\n",
       "      <td>20200715_132121.jpg</td>\n",
       "      <td>[[2.0, 0.9907962083816528, 0.5214252129024448,...</td>\n",
       "    </tr>\n",
       "  </tbody>\n",
       "</table>\n",
       "<p>80 rows × 2 columns</p>\n",
       "</div>"
      ],
      "text/plain": [
       "                  image                                              label\n",
       "0   20200715_131357.jpg  [[5.0, 0.9801816344261169, 0.5723161834240573,...\n",
       "1   20200715_131425.jpg  [[5.0, 0.970565140247345, 0.48513507178697357,...\n",
       "2   20200715_132104.jpg  [[5.0, 0.8995633125305176, 0.35179408797419776...\n",
       "3   20200715_131419.jpg  [[5.0, 0.9723071455955505, 0.4525189156132324,...\n",
       "4   20200715_131627.jpg  [[5.0, 0.8384732604026794, 0.6015328711776957,...\n",
       "..                  ...                                                ...\n",
       "75  20200715_132040.jpg  [[2.0, 0.954913318157196, 0.5624528159985922, ...\n",
       "76  20200715_131616.jpg  [[5.0, 0.7259454727172852, 0.6496890078488998,...\n",
       "77  20200715_132109.jpg  [[5.0, 0.9889770150184631, 0.371066164361384, ...\n",
       "78  20200715_131414.jpg  [[5.0, 0.9650653004646301, 0.4916399443963358,...\n",
       "79  20200715_132121.jpg  [[2.0, 0.9907962083816528, 0.5214252129024448,...\n",
       "\n",
       "[80 rows x 2 columns]"
      ]
     },
     "execution_count": 76,
     "metadata": {},
     "output_type": "execute_result"
    }
   ],
   "source": [
    "result"
   ]
  },
  {
   "cell_type": "code",
   "execution_count": 41,
   "metadata": {},
   "outputs": [],
   "source": [
    "#to run drawing_bbox.py\n",
    "#result.to_csv('drawing_box_siteOne.csv',index=False)"
   ]
  },
  {
   "cell_type": "code",
   "execution_count": 77,
   "metadata": {},
   "outputs": [],
   "source": [
    "result['label']=result['label'].apply(lambda x : ast.literal_eval(x))"
   ]
  },
  {
   "cell_type": "code",
   "execution_count": 78,
   "metadata": {},
   "outputs": [],
   "source": [
    "result['label']=result['label'].apply(lambda x: np.asarray(pd.DataFrame(x).groupby(0).nth(0).reset_index()))"
   ]
  },
  {
   "cell_type": "code",
   "execution_count": 79,
   "metadata": {},
   "outputs": [],
   "source": [
    "result['label']=result['label'].apply(lambda x : np.around(x[:,:2],2))"
   ]
  },
  {
   "cell_type": "code",
   "execution_count": 80,
   "metadata": {},
   "outputs": [],
   "source": [
    "result.to_csv('site_two_top_box.csv')"
   ]
  },
  {
   "cell_type": "code",
   "execution_count": null,
   "metadata": {},
   "outputs": [],
   "source": []
  }
 ],
 "metadata": {
  "kernelspec": {
   "display_name": "Python 3",
   "language": "python",
   "name": "python3"
  },
  "language_info": {
   "codemirror_mode": {
    "name": "ipython",
    "version": 3
   },
   "file_extension": ".py",
   "mimetype": "text/x-python",
   "name": "python",
   "nbconvert_exporter": "python",
   "pygments_lexer": "ipython3",
   "version": "3.7.6"
  }
 },
 "nbformat": 4,
 "nbformat_minor": 4
}
