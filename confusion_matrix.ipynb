{
 "cells": [
  {
   "cell_type": "code",
   "execution_count": 31,
   "metadata": {},
   "outputs": [],
   "source": [
    "import pandas as pd\n",
    "import numpy as np"
   ]
  },
  {
   "cell_type": "code",
   "execution_count": 28,
   "metadata": {},
   "outputs": [],
   "source": [
    "def confusion_matrix(file_path):\n",
    "    df = pd.read_csv(file_path, usecols=[0,1,2])\n",
    "    df['Label'] = df['path'].apply(lambda x: x.split('.')[-2][-1])\n",
    "    df['Infer'] = np.where(df['1']>df['0'], 1, 0)\n",
    "    confusion_matrix = pd.crosstab(df['Label'], df['Infer'], rownames=['Actual'], colnames=['Predicted'])\n",
    "    print(confusion_matrix)"
   ]
  },
  {
   "cell_type": "code",
   "execution_count": 45,
   "metadata": {},
   "outputs": [
    {
     "name": "stdout",
     "output_type": "stream",
     "text": [
      "Predicted     0     1\n",
      "Actual               \n",
      "0          2505   242\n",
      "1           453  1000\n"
     ]
    }
   ],
   "source": [
    "confusion_matrix('argile_typeA_result_np.csv')"
   ]
  },
  {
   "cell_type": "code",
   "execution_count": 47,
   "metadata": {},
   "outputs": [],
   "source": [
    "df = pd.read_csv('argile_typeC_train_np.csv')"
   ]
  },
  {
   "cell_type": "code",
   "execution_count": 48,
   "metadata": {},
   "outputs": [
    {
     "data": {
      "text/html": [
       "<div>\n",
       "<style scoped>\n",
       "    .dataframe tbody tr th:only-of-type {\n",
       "        vertical-align: middle;\n",
       "    }\n",
       "\n",
       "    .dataframe tbody tr th {\n",
       "        vertical-align: top;\n",
       "    }\n",
       "\n",
       "    .dataframe thead th {\n",
       "        text-align: right;\n",
       "    }\n",
       "</style>\n",
       "<table border=\"1\" class=\"dataframe\">\n",
       "  <thead>\n",
       "    <tr style=\"text-align: right;\">\n",
       "      <th></th>\n",
       "      <th>path</th>\n",
       "      <th>0</th>\n",
       "      <th>1</th>\n",
       "      <th>Unnamed: 3</th>\n",
       "    </tr>\n",
       "  </thead>\n",
       "  <tbody>\n",
       "    <tr>\n",
       "      <th>0</th>\n",
       "      <td>C_Slice/23_BSL(21)_178_0.png</td>\n",
       "      <td>0.222117</td>\n",
       "      <td>0.777883</td>\n",
       "      <td>1</td>\n",
       "    </tr>\n",
       "    <tr>\n",
       "      <th>1</th>\n",
       "      <td>C_Slice/7_BSL_191_0.png</td>\n",
       "      <td>0.156752</td>\n",
       "      <td>0.843248</td>\n",
       "      <td>1</td>\n",
       "    </tr>\n",
       "    <tr>\n",
       "      <th>2</th>\n",
       "      <td>C_Slice/8_BSL(8)_87_1.png</td>\n",
       "      <td>0.288942</td>\n",
       "      <td>0.711058</td>\n",
       "      <td>1</td>\n",
       "    </tr>\n",
       "    <tr>\n",
       "      <th>3</th>\n",
       "      <td>C_Slice/2_BSL(2)_62_0.png</td>\n",
       "      <td>0.162931</td>\n",
       "      <td>0.837069</td>\n",
       "      <td>1</td>\n",
       "    </tr>\n",
       "    <tr>\n",
       "      <th>4</th>\n",
       "      <td>C_Slice/29_BSL(27)_192_0.png</td>\n",
       "      <td>0.365633</td>\n",
       "      <td>0.634367</td>\n",
       "      <td>1</td>\n",
       "    </tr>\n",
       "  </tbody>\n",
       "</table>\n",
       "</div>"
      ],
      "text/plain": [
       "                           path         0         1  Unnamed: 3\n",
       "0  C_Slice/23_BSL(21)_178_0.png  0.222117  0.777883           1\n",
       "1       C_Slice/7_BSL_191_0.png  0.156752  0.843248           1\n",
       "2     C_Slice/8_BSL(8)_87_1.png  0.288942  0.711058           1\n",
       "3     C_Slice/2_BSL(2)_62_0.png  0.162931  0.837069           1\n",
       "4  C_Slice/29_BSL(27)_192_0.png  0.365633  0.634367           1"
      ]
     },
     "execution_count": 48,
     "metadata": {},
     "output_type": "execute_result"
    }
   ],
   "source": [
    "df.head()"
   ]
  },
  {
   "cell_type": "code",
   "execution_count": 43,
   "metadata": {},
   "outputs": [],
   "source": [
    "df.iloc[:,[0]].dropna().to_csv('argile_typeA_val.csv',index=False)"
   ]
  },
  {
   "cell_type": "code",
   "execution_count": null,
   "metadata": {},
   "outputs": [],
   "source": []
  }
 ],
 "metadata": {
  "kernelspec": {
   "display_name": "conda_python3",
   "language": "python",
   "name": "conda_python3"
  },
  "language_info": {
   "codemirror_mode": {
    "name": "ipython",
    "version": 3
   },
   "file_extension": ".py",
   "mimetype": "text/x-python",
   "name": "python",
   "nbconvert_exporter": "python",
   "pygments_lexer": "ipython3",
   "version": "3.6.10"
  }
 },
 "nbformat": 4,
 "nbformat_minor": 4
}
